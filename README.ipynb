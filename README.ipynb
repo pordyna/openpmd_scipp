{
 "cells": [
  {
   "cell_type": "markdown",
   "id": "2e89b77182b6ebd7",
   "metadata": {},
   "source": [
    "# openpmd-scipp\n",
    "Load openpmd datasets to `scipp` `DataArrays`.\n",
    "\n",
    "## Description\n",
    "### What is this good for?\n",
    "[`scipp`](https://github.com/scipp/scipp) is an alternative to [`xarray`](https://github.com/pydata/xarray) and provides basically numpy arrays with axes description and units.\n",
    "* Automatically load axes and units with openPMD data.\n",
    "* Axes information  is automatically updated when slicing, indexing, or filtering your data.\n",
    "* With `scipp`'s plotting library [`plopp`](https://github.com/scipp/plopp) it becomes an alternative to `openpmd-viewer`.\n",
    "* Many numpy and some scipy functions including all the basic algebraic operations on arrays are supported by `scipp`. When using these, the units and coordinates are automatically taken care of. \n",
    "\n",
    "### Limitations\n",
    "* `scipp` currently handles units with a library, that does not support non-integer exponents for units. This can become problematic in some calculations. "
   ]
  },
  {
   "cell_type": "markdown",
   "id": "fc4a0023fa8afef2",
   "metadata": {},
   "source": [
    "\n",
    "\n",
    "## Installation\n",
    "It can be easily installed with pip.\n",
    "```bash\n",
    "git clone https://github.com/pordyna/openpmd_scipp.git\n",
    "cd openpmd-scipp\n",
    "pip install .\n",
    "```\n",
    "\n",
    "## Getting started\n",
    "Get example data sets from the `openPMD-example-datasets` repository.\n",
    "```bash\n",
    "git clone https://github.com/openPMD/openPMD-example-datasets.git\n",
    "cd openPMD-example-datasets\n",
    "tar -zxvf example-2d.tar.gz\n",
    "tar -zxvf example-3d.tar.gz\n",
    "```\n",
    " \n",
    "\n",
    "### Opening series"
   ]
  },
  {
   "cell_type": "code",
   "execution_count": null,
   "id": "initial_id",
   "metadata": {},
   "outputs": [],
   "source": [
    "import openpmd_scipp as pmdsc\n",
    "import scipp as sc"
   ]
  },
  {
   "cell_type": "code",
   "execution_count": null,
   "id": "67bba264bde780ef",
   "metadata": {},
   "outputs": [],
   "source": [
    "path = \"openPMD-example-datasets/example-3d/hdf5/data%T.h5\""
   ]
  },
  {
   "cell_type": "code",
   "execution_count": null,
   "id": "cc1b21e51bd6e524",
   "metadata": {},
   "outputs": [],
   "source": [
    "path = \".data/\" + path"
   ]
  },
  {
   "cell_type": "code",
   "execution_count": null,
   "id": "97abaf499694da8c",
   "metadata": {},
   "outputs": [],
   "source": [
    "data_loader = pmdsc.DataLoader(path)\n",
    "print(data_loader.iterations)"
   ]
  },
  {
   "cell_type": "markdown",
   "id": "966866d44f32e381",
   "metadata": {},
   "source": [
    "### Working with meshes (fields)\n",
    "Let us plot electric field's x component at 65 fs. \n"
   ]
  },
  {
   "cell_type": "code",
   "execution_count": null,
   "id": "48d147dd17b96d",
   "metadata": {},
   "outputs": [],
   "source": [
    "Ex = data_loader.get_field(\"E\", \"x\", time=65 * sc.Unit(\"fs\"))\n",
    "print(Ex)"
   ]
  },
  {
   "cell_type": "markdown",
   "id": "69d531a49c1021d4",
   "metadata": {},
   "source": [
    "You may have noticed, that the time requested does not have to match exactly any iteration. By default, if there is an iteration within 10 fs distance it will be used instead. This 10 fs tolerance can be adjusted by setting `time_tolerance`. The check can be also disabled by setting `time_tolerance=None`, with that the method will return the closest iteration regardless of the difference. So that this will also work:"
   ]
  },
  {
   "cell_type": "code",
   "execution_count": null,
   "id": "7811da56397eeab6",
   "metadata": {},
   "outputs": [],
   "source": [
    "print(data_loader.get_field(\"E\", \"x\", time=20 * sc.Unit(\"fs\"), time_tolerance=20 * sc.Unit(\"fs\")))"
   ]
  },
  {
   "cell_type": "markdown",
   "id": "f05c2e19a7ea2350",
   "metadata": {},
   "source": [
    ", but `data_loader.get_field('E', 'x', time=20 * sc.Unit('fs'))` not."
   ]
  },
  {
   "cell_type": "code",
   "execution_count": null,
   "id": "52e59ab2524367f4",
   "metadata": {},
   "outputs": [],
   "source": [
    "# It is also possible to use iteration number instead:\n",
    "print(data_loader.get_field(\"E\", \"x\", iteration=200))"
   ]
  },
  {
   "cell_type": "code",
   "execution_count": null,
   "id": "9f4b4ac390d8a45f",
   "metadata": {},
   "outputs": [],
   "source": [
    "# For scalar fields just omit the second argument:\n",
    "print(data_loader.get_field(\"rho\", iteration=200))"
   ]
  },
  {
   "cell_type": "markdown",
   "id": "524aaf62b6967893",
   "metadata": {},
   "source": [
    "#### Plotting\n",
    "W can't directly plot 3D data.\n",
    "But we can for example select a slice. For that we can use a helper function `pmdsc.closest` to get the closets index, since `scipp` requires exact match. You can read more about indexing `scipp` arrays in `scipp`'s documentation."
   ]
  },
  {
   "cell_type": "code",
   "execution_count": null,
   "id": "5c35a81329a3cc83",
   "metadata": {},
   "outputs": [],
   "source": [
    "slicing_idx = pmdsc.closest(Ex, \"x\", 2 * sc.Unit(\"um\"))\n",
    "Ex_slice = Ex[\"x\", slicing_idx]\n",
    "print(Ex_slice)"
   ]
  },
  {
   "cell_type": "code",
   "execution_count": null,
   "id": "60536b5c1b47ff20",
   "metadata": {},
   "outputs": [],
   "source": [
    "Ex_slice.plot()"
   ]
  },
  {
   "cell_type": "code",
   "execution_count": null,
   "id": "66cea62fcce29f24",
   "metadata": {},
   "outputs": [],
   "source": [
    "# We can also plot line plots:\n",
    "Ex_line = Ex_slice[\"z\", pmdsc.closest(Ex_slice, \"z\", 1.4e-5 * sc.Unit(\"m\"))]\n",
    "print(Ex_line)"
   ]
  },
  {
   "cell_type": "code",
   "execution_count": null,
   "id": "b2da76154c389c9f",
   "metadata": {},
   "outputs": [],
   "source": [
    "Ex_line.plot()"
   ]
  },
  {
   "cell_type": "markdown",
   "id": "c0b3b040b06ab6d9",
   "metadata": {},
   "source": [
    "Alternatively it is possible to work interactively with `plopp`'s tools for visualizing multidimensional data, such as `pp.slicer`or `pp.inspector`.\n",
    "\n",
    "#### Doing math\n",
    "Just as an example we can easily plot the square of the field:"
   ]
  },
  {
   "cell_type": "code",
   "execution_count": null,
   "id": "2f8aa64caf8d2a66",
   "metadata": {},
   "outputs": [],
   "source": [
    "(Ex_line * Ex_line).plot()"
   ]
  },
  {
   "cell_type": "markdown",
   "id": "8ba6694fadbe70e5",
   "metadata": {},
   "source": [
    "### Loading chunks\n",
    "In the above example the whole 3D field is loaded into memory and sliced afterward. It is also possible to just load a sub-chunk into memory. When the `relay` option in `get_field` is set to `True` it will return a dummy object that only allocates memory for a single value. This relay object can be indexed, sliced etc. using the `scipp` indexing just like before. (The only limitation given by the `openpmd-api` is that the result has to a be contiguous chunk of the original array). The `load_data` method loads data and returns a proper `scipp` data array. "
   ]
  },
  {
   "cell_type": "code",
   "execution_count": null,
   "id": "4f8585597ab80058",
   "metadata": {},
   "outputs": [],
   "source": [
    "# The full 3D array is not loaded into memory at this point.\n",
    "Ex = data_loader.get_field(\"E\", \"x\", time=65 * sc.Unit(\"fs\"), relay=True)\n",
    "# This time we will select a range rather than a slice.\n",
    "# For a range there is no need for an exact match.\n",
    "# But, we could also select a slice just like in the previous example.\n",
    "Ex = Ex[\"x\", -2e-6 * sc.Unit(\"m\") : 2e-6 * sc.Unit(\"m\")]\n",
    "# Only now the smaller subset wil be loaded into memory\n",
    "Ex = Ex.load_data()\n",
    "print(Ex)"
   ]
  },
  {
   "cell_type": "markdown",
   "id": "7fe77682f59178ab",
   "metadata": {},
   "source": [
    "### Time axis\n",
    "It is also possible to combine arrays from different iterations into one using `scipp`'s `concat` function. Here is an example for creating a 4D array from all iterations:"
   ]
  },
  {
   "cell_type": "code",
   "execution_count": null,
   "id": "74e0e0960eb431e4",
   "metadata": {},
   "outputs": [],
   "source": [
    "Ex = sc.concat(\n",
    "    [\n",
    "        data_loader.get_field(\"E\", \"x\", iteration=iteration.value, time_tolerance=None)\n",
    "        for iteration in data_loader.iterations[\"iteration_id\"]\n",
    "    ],\n",
    "    dim=\"t\",\n",
    ")\n",
    "print(Ex)"
   ]
  },
  {
   "cell_type": "markdown",
   "id": "7ea35adaeecae10d",
   "metadata": {},
   "source": [
    "The reason for the z coordinate having two dimensions (t,z) is the fact that the data comes from a moving window simulation. This is clearly visible in the plot below."
   ]
  },
  {
   "cell_type": "code",
   "execution_count": null,
   "id": "97c0e662a6724f16",
   "metadata": {},
   "outputs": [],
   "source": [
    "# Let us just slice at some points to get a 2D dataset\n",
    "Ex = Ex[\"x\", 10][\"y\", 10]\n",
    "print(Ex)"
   ]
  },
  {
   "cell_type": "code",
   "execution_count": null,
   "id": "accb22f6ed91f90f",
   "metadata": {},
   "outputs": [],
   "source": [
    "Ex.plot()"
   ]
  },
  {
   "cell_type": "markdown",
   "id": "6118dd51b20e156e",
   "metadata": {},
   "source": [
    "### Working with particle data\n",
    "Coming soon!"
   ]
  },
  {
   "cell_type": "markdown",
   "id": "60ebf9bd3826ee54",
   "metadata": {},
   "source": [
    "## Developer documentation\n",
    "### Generating this README\n",
    "README file is generated from the README.ipynb.\n",
    "```\n",
    "# Download and extract example datasets if not present\n",
    "# Will download data into `.data`\n",
    "make data\n",
    "\n",
    "make docs\n",
    "```\n",
    "### Running tests\n",
    "At the moment we only test we have is an integration test running this notebook. After downloading example datasets with `make data`, if needed, run:\n",
    "```\n",
    "make test\n",
    "```\n",
    "You can also run tests with different python version with tox, but you need to have the python version installed, for example with pyenv.\n"
   ]
  },
  {
   "cell_type": "code",
   "execution_count": null,
   "id": "425c6cc9a98a5878",
   "metadata": {},
   "outputs": [],
   "source": []
  }
 ],
 "metadata": {
  "kernelspec": {
   "display_name": "Python 3 (ipykernel)",
   "language": "python",
   "name": "python3"
  },
  "language_info": {
   "codemirror_mode": {
    "name": "ipython",
    "version": 3
   },
   "file_extension": ".py",
   "mimetype": "text/x-python",
   "name": "python",
   "nbconvert_exporter": "python",
   "pygments_lexer": "ipython3"
  }
 },
 "nbformat": 4,
 "nbformat_minor": 5
}
